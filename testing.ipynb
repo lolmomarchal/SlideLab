{
 "cells": [
  {
   "cell_type": "code",
   "execution_count": 1,
   "id": "initial_id",
   "metadata": {
    "collapsed": true,
    "ExecuteTime": {
     "end_time": "2024-04-10T07:09:44.391619Z",
     "start_time": "2024-04-10T07:09:43.831811Z"
    }
   },
   "outputs": [
    {
     "ename": "PackageNotFoundError",
     "evalue": "No package metadata was found for histolab",
     "output_type": "error",
     "traceback": [
      "\u001B[1;31m---------------------------------------------------------------------------\u001B[0m",
      "\u001B[1;31mStopIteration\u001B[0m                             Traceback (most recent call last)",
      "File \u001B[1;32m~\\AppData\\Local\\Programs\\Python\\Python311\\Lib\\importlib\\metadata\\__init__.py:563\u001B[0m, in \u001B[0;36mDistribution.from_name\u001B[1;34m(cls, name)\u001B[0m\n\u001B[0;32m    562\u001B[0m \u001B[38;5;28;01mtry\u001B[39;00m:\n\u001B[1;32m--> 563\u001B[0m     \u001B[38;5;28;01mreturn\u001B[39;00m \u001B[38;5;28;43mnext\u001B[39;49m\u001B[43m(\u001B[49m\u001B[38;5;28;43mcls\u001B[39;49m\u001B[38;5;241;43m.\u001B[39;49m\u001B[43mdiscover\u001B[49m\u001B[43m(\u001B[49m\u001B[43mname\u001B[49m\u001B[38;5;241;43m=\u001B[39;49m\u001B[43mname\u001B[49m\u001B[43m)\u001B[49m\u001B[43m)\u001B[49m\n\u001B[0;32m    564\u001B[0m \u001B[38;5;28;01mexcept\u001B[39;00m \u001B[38;5;167;01mStopIteration\u001B[39;00m:\n",
      "\u001B[1;31mStopIteration\u001B[0m: ",
      "\nDuring handling of the above exception, another exception occurred:\n",
      "\u001B[1;31mPackageNotFoundError\u001B[0m                      Traceback (most recent call last)",
      "Cell \u001B[1;32mIn[1], line 2\u001B[0m\n\u001B[0;32m      1\u001B[0m \u001B[38;5;66;03m# imports\u001B[39;00m\n\u001B[1;32m----> 2\u001B[0m \u001B[38;5;28;01mfrom\u001B[39;00m \u001B[38;5;21;01mresources\u001B[39;00m\u001B[38;5;21;01m.\u001B[39;00m\u001B[38;5;21;01mhistolab\u001B[39;00m\u001B[38;5;21;01m.\u001B[39;00m\u001B[38;5;21;01mhistolab\u001B[39;00m \u001B[38;5;28;01mimport\u001B[39;00m filters\n\u001B[0;32m      3\u001B[0m \u001B[38;5;28;01mfrom\u001B[39;00m \u001B[38;5;21;01mresources\u001B[39;00m\u001B[38;5;21;01m.\u001B[39;00m\u001B[38;5;21;01mhistolab\u001B[39;00m\u001B[38;5;21;01m.\u001B[39;00m\u001B[38;5;21;01mhistolab\u001B[39;00m \u001B[38;5;28;01mimport\u001B[39;00m slide\n\u001B[0;32m      4\u001B[0m \u001B[38;5;28;01mimport\u001B[39;00m \u001B[38;5;21;01mnumpy\u001B[39;00m \u001B[38;5;28;01mas\u001B[39;00m \u001B[38;5;21;01mnp\u001B[39;00m\n",
      "File \u001B[1;32m~\\IdeaProjects\\WSI_preprocessing\\resources\\histolab\\histolab\\__init__.py:23\u001B[0m\n\u001B[0;32m     19\u001B[0m \u001B[38;5;28;01mfrom\u001B[39;00m \u001B[38;5;21;01m__future__\u001B[39;00m \u001B[38;5;28;01mimport\u001B[39;00m annotations\n\u001B[0;32m     21\u001B[0m \u001B[38;5;28;01mfrom\u001B[39;00m \u001B[38;5;21;01mimportlib\u001B[39;00m \u001B[38;5;28;01mimport\u001B[39;00m metadata\n\u001B[1;32m---> 23\u001B[0m __version__ \u001B[38;5;241m=\u001B[39m \u001B[43mmetadata\u001B[49m\u001B[38;5;241;43m.\u001B[39;49m\u001B[43mversion\u001B[49m\u001B[43m(\u001B[49m\u001B[38;5;124;43m\"\u001B[39;49m\u001B[38;5;124;43mhistolab\u001B[39;49m\u001B[38;5;124;43m\"\u001B[39;49m\u001B[43m)\u001B[49m\n",
      "File \u001B[1;32m~\\AppData\\Local\\Programs\\Python\\Python311\\Lib\\importlib\\metadata\\__init__.py:1008\u001B[0m, in \u001B[0;36mversion\u001B[1;34m(distribution_name)\u001B[0m\n\u001B[0;32m   1001\u001B[0m \u001B[38;5;28;01mdef\u001B[39;00m \u001B[38;5;21mversion\u001B[39m(distribution_name):\n\u001B[0;32m   1002\u001B[0m \u001B[38;5;250m    \u001B[39m\u001B[38;5;124;03m\"\"\"Get the version string for the named package.\u001B[39;00m\n\u001B[0;32m   1003\u001B[0m \n\u001B[0;32m   1004\u001B[0m \u001B[38;5;124;03m    :param distribution_name: The name of the distribution package to query.\u001B[39;00m\n\u001B[0;32m   1005\u001B[0m \u001B[38;5;124;03m    :return: The version string for the package as defined in the package's\u001B[39;00m\n\u001B[0;32m   1006\u001B[0m \u001B[38;5;124;03m        \"Version\" metadata key.\u001B[39;00m\n\u001B[0;32m   1007\u001B[0m \u001B[38;5;124;03m    \"\"\"\u001B[39;00m\n\u001B[1;32m-> 1008\u001B[0m     \u001B[38;5;28;01mreturn\u001B[39;00m \u001B[43mdistribution\u001B[49m\u001B[43m(\u001B[49m\u001B[43mdistribution_name\u001B[49m\u001B[43m)\u001B[49m\u001B[38;5;241m.\u001B[39mversion\n",
      "File \u001B[1;32m~\\AppData\\Local\\Programs\\Python\\Python311\\Lib\\importlib\\metadata\\__init__.py:981\u001B[0m, in \u001B[0;36mdistribution\u001B[1;34m(distribution_name)\u001B[0m\n\u001B[0;32m    975\u001B[0m \u001B[38;5;28;01mdef\u001B[39;00m \u001B[38;5;21mdistribution\u001B[39m(distribution_name):\n\u001B[0;32m    976\u001B[0m \u001B[38;5;250m    \u001B[39m\u001B[38;5;124;03m\"\"\"Get the ``Distribution`` instance for the named package.\u001B[39;00m\n\u001B[0;32m    977\u001B[0m \n\u001B[0;32m    978\u001B[0m \u001B[38;5;124;03m    :param distribution_name: The name of the distribution package as a string.\u001B[39;00m\n\u001B[0;32m    979\u001B[0m \u001B[38;5;124;03m    :return: A ``Distribution`` instance (or subclass thereof).\u001B[39;00m\n\u001B[0;32m    980\u001B[0m \u001B[38;5;124;03m    \"\"\"\u001B[39;00m\n\u001B[1;32m--> 981\u001B[0m     \u001B[38;5;28;01mreturn\u001B[39;00m \u001B[43mDistribution\u001B[49m\u001B[38;5;241;43m.\u001B[39;49m\u001B[43mfrom_name\u001B[49m\u001B[43m(\u001B[49m\u001B[43mdistribution_name\u001B[49m\u001B[43m)\u001B[49m\n",
      "File \u001B[1;32m~\\AppData\\Local\\Programs\\Python\\Python311\\Lib\\importlib\\metadata\\__init__.py:565\u001B[0m, in \u001B[0;36mDistribution.from_name\u001B[1;34m(cls, name)\u001B[0m\n\u001B[0;32m    563\u001B[0m     \u001B[38;5;28;01mreturn\u001B[39;00m \u001B[38;5;28mnext\u001B[39m(\u001B[38;5;28mcls\u001B[39m\u001B[38;5;241m.\u001B[39mdiscover(name\u001B[38;5;241m=\u001B[39mname))\n\u001B[0;32m    564\u001B[0m \u001B[38;5;28;01mexcept\u001B[39;00m \u001B[38;5;167;01mStopIteration\u001B[39;00m:\n\u001B[1;32m--> 565\u001B[0m     \u001B[38;5;28;01mraise\u001B[39;00m PackageNotFoundError(name)\n",
      "\u001B[1;31mPackageNotFoundError\u001B[0m: No package metadata was found for histolab"
     ]
    }
   ],
   "source": [
    " # imports\n",
    "from resources.histolab.histolab import filters\n",
    "from resources.histolab.histolab import slide\n",
    "import numpy as np\n",
    "\n",
    "from resources.histolab.histolab.masks import BinaryMask\n",
    "from resources.histolab.histolab.util import rectangle_to_mask\n",
    "from resources.histolab.histolab.types import CP\n",
    "from resources.histolab.histolab.filters.image_filters import (\n",
    "    ApplyMaskImage,\n",
    "    GreenPenFilter,\n",
    "    Invert,\n",
    "    OtsuThreshold,\n",
    "    RgbToGrayscale,\n",
    ")\n",
    "from resources.histolab.histolab.filters.morphological_filters import RemoveSmallHoles, RemoveSmallObjects\n",
    "from resources.histolab.histolab.masks import TissueMask\n",
    "from resources.histolab.histolab.slide import Slide"
   ]
  },
  {
   "cell_type": "code",
   "outputs": [],
   "source": [
    "\n",
    "def create_mask(wsi):\n",
    "        mask = TissueMask( RgbToGrayscale(),\n",
    "                           OtsuThreshold(),\n",
    "                           ApplyMaskImage(wsi.thumbnail),\n",
    "                           GreenPenFilter(),\n",
    "                           RgbToGrayscale(),\n",
    "                           Invert(),\n",
    "                           OtsuThreshold(),\n",
    "                           RemoveSmallHoles(),\n",
    "                           RemoveSmallObjects(),)\n",
    "        return wsi.locate_mask(mask, scale_factor= 64)"
   ],
   "metadata": {
    "collapsed": false
   },
   "id": "bc6f209ddf1db818"
  },
  {
   "cell_type": "code",
   "outputs": [],
   "source": [
    "def whole_slide_mask(slide_path= r\"C:\\Users\\albao\\Downloads\\gdc_download_20240320_111546.230274\\TCGA-A2-A0EU-01A-02-MSB.44688c8e-aaff-4acd-b70e-d4c570a04317.svs\"):\n",
    "    try:\n",
    "        slide = Slide(slide_path, \"\")\n",
    "        mask = create_mask(slide)\n",
    "    except Exception as e:\n",
    "        print(\"file could not be opened\", e)\n",
    "        return None\n",
    "    return mask\n",
    "\n"
   ],
   "metadata": {
    "collapsed": false
   },
   "id": "93d95550d2e33eee"
  },
  {
   "cell_type": "code",
   "outputs": [],
   "source": [
    "print(whole_slide_mask(slide_path= ))"
   ],
   "metadata": {
    "collapsed": false
   },
   "id": "fbe4462b6f235a46"
  }
 ],
 "metadata": {
  "kernelspec": {
   "display_name": "Python 3",
   "language": "python",
   "name": "python3"
  },
  "language_info": {
   "codemirror_mode": {
    "name": "ipython",
    "version": 2
   },
   "file_extension": ".py",
   "mimetype": "text/x-python",
   "name": "python",
   "nbconvert_exporter": "python",
   "pygments_lexer": "ipython2",
   "version": "2.7.6"
  }
 },
 "nbformat": 4,
 "nbformat_minor": 5
}
